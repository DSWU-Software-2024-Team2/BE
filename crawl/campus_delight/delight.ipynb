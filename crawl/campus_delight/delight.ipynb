{
 "cells": [
  {
   "cell_type": "markdown",
   "metadata": {},
   "source": [
    "교내 정보 딜라이트에서 가져오기"
   ]
  },
  {
   "cell_type": "code",
   "execution_count": 21,
   "metadata": {},
   "outputs": [],
   "source": [
    "import requests\n",
    "from bs4 import BeautifulSoup\n",
    "import datetime\n",
    "import pandas as pd\n",
    "import re"
   ]
  },
  {
   "cell_type": "code",
   "execution_count": 22,
   "metadata": {},
   "outputs": [],
   "source": [
    "url = 'https://delight.duksung.ac.kr/ko/program/all'"
   ]
  },
  {
   "cell_type": "code",
   "execution_count": 23,
   "metadata": {},
   "outputs": [],
   "source": [
    "# 기본 URL 및 페이지 수 설정\n",
    "base_url = 'https://delight.duksung.ac.kr/ko/program/all/list/0/'\n",
    "page_count = 6"
   ]
  },
  {
   "cell_type": "code",
   "execution_count": 24,
   "metadata": {},
   "outputs": [],
   "source": [
    "# 결과를 저장할 리스트\n",
    "all_data = []"
   ]
  },
  {
   "cell_type": "markdown",
   "metadata": {},
   "source": [
    "1) 일단 덩어리 불러오는 함수"
   ]
  },
  {
   "cell_type": "code",
   "execution_count": 25,
   "metadata": {},
   "outputs": [],
   "source": [
    "def fetch_list_items(base_url, page_count):\n",
    "    \"\"\"주어진 URL에서 ul data-role='list' 안의 li 요소를 가져오는 함수\"\"\"\n",
    "    all_items = []\n",
    "\n",
    "    for page in range(1, page_count + 1):  # 1페이지부터 page_count까지\n",
    "        # 각 페이지 URL 생성\n",
    "        url = f'{base_url}{page}'\n",
    "\n",
    "        # HTTP 요청\n",
    "        response = requests.get(url)\n",
    "\n",
    "        # HTML 분석\n",
    "        soup = BeautifulSoup(response.text, 'html.parser')\n",
    "\n",
    "        # ul[data-role='list'] 안의 li 요소 찾기\n",
    "        ul_element = soup.select_one(\"ul[data-role='list']\")\n",
    "        if ul_element:\n",
    "            li_elements = ul_element.find_all(\"li\")  # 해당 ul 내의 모든 <li> 요소 선택\n",
    "            all_items.extend(li_elements)  # 각 <li>를 리스트에 추가\n",
    "\n",
    "    return all_items"
   ]
  },
  {
   "cell_type": "code",
   "execution_count": 26,
   "metadata": {},
   "outputs": [
    {
     "name": "stdout",
     "output_type": "stream",
     "text": [
      "총 72개의 'li' div 요소가 발견되었습니다.\n"
     ]
    }
   ],
   "source": [
    "# 함수 호출\n",
    "default_divs = fetch_list_items(base_url, page_count)\n",
    "# 결과 출력\n",
    "print(f\"총 {len(default_divs)}개의 'li' div 요소가 발견되었습니다.\")"
   ]
  },
  {
   "cell_type": "markdown",
   "metadata": {},
   "source": [
    "2. 타이틀 불러오기"
   ]
  },
  {
   "cell_type": "code",
   "execution_count": 27,
   "metadata": {},
   "outputs": [],
   "source": [
    "def extract_titles(div_elements):\n",
    "    \"\"\"주어진 div 요소 리스트에서 타이틀을 추출하는 함수\"\"\"\n",
    "    titles = []\n",
    "    for div in div_elements:\n",
    "        title_element = div.select_one('b.title')  # <b class=\"title\"> 태그 찾기\n",
    "        if title_element:\n",
    "            titles.append(title_element.text.strip())  # 타이틀 추가\n",
    "    return titles"
   ]
  },
  {
   "cell_type": "code",
   "execution_count": 28,
   "metadata": {},
   "outputs": [
    {
     "name": "stdout",
     "output_type": "stream",
     "text": [
      "총 72개의 타이틀이 발견되었습니다.\n",
      "2024학년도  덕성여대 W쇼핑 영상컨텐츠공모전\n",
      "2024년도 중견기업 바로알기 취업특강\n",
      "2024-2 학생참여 공모형 워크숍 주제공모\n",
      "2024년도 2학기 바이어스\n",
      "2024학년도  창업아이템 경진대회\n",
      "[재맞고] 넥스트드림 - 꿈을 이루는 포트폴리오\n",
      "2024-2 PBL, 창의융합, 캡스톤디자인 현장연계 산학연 교과 학습역량강화교육\n",
      "[인권센터]2024 찾아가는 재학생 폭력예방교육(2차)\n",
      "2024학년도 융복합 교양인 아이디어 공모전\n",
      "2024 커리어 플랫폼 사회진출(4학년) 프로그램\n",
      "2024학년도 덕성 나다움(I:DS) 스피치 대회 청중모집\n",
      "2024학년도 덕성 나다움(I:DS) 스피치 대회\n",
      "2024 커리어플랫폼 1학년 프로그램\n",
      "2024년도  면접시리즈2(모의면접편)\n",
      "2024  DUKSUNG 지역협업 아이디어 공모전\n",
      "[재맞고] 넥스트드림 - 꿈을 이루는 포트폴리오\n",
      "2024 하반기 온라인 일본기업 채용설명회\n",
      "2024년도 공기업 길라잡이\n",
      "2024학년도 생성형 AI 프롬프트대회\n",
      "[재맞고] 넥스트드림 - 꿈을 이루는 포트폴리오\n",
      "2024-2 PBL, 창의융합, 캡스톤디자인 현장연계 산학연 교과 학습역량강화교육\n",
      "글로벌 이슈 카드 뉴스 콘테스트\n",
      "2024-2 PBL, 창의융합, 캡스톤디자인 현장연계 산학연 교과 학습역량강화교육\n",
      "[재맞고] 넥스트드림 - 꿈을 이루는 포트폴리오\n",
      "[재맞고] 넥스트드림 - 꿈을 이루는 포트폴리오\n",
      "2024-2 PBL, 창의융합, 캡스톤디자인 현장연계 산학연 교과 학습역량강화교육\n",
      "2024-2 PBL, 창의융합, 캡스톤디자인 현장연계 산학연 교과 학습역량강화교육\n",
      "아미공마일리지(아미공챌린지 (Army-0 challenge))\n",
      "[2024-2] 데이터 활용 대학 자율혁신을 위한 정책 공모(DS-데이터톤)\n",
      "2024-2 PBL, 창의융합, 캡스톤디자인 현장연계 산학연 교과 학습역량강화교육\n",
      "2024 재학생 생명존중 교육\n",
      "2024-2 PBL, 창의융합, 캡스톤디자인 현장연계 산학연 교과 학습역량강화교육\n",
      "2024학년도 2학기  진로길라JOB이(캐치업프로그램)\n",
      "[인권센터] 2024 재학생 폭력예방교육\n",
      "2024-2 심리검사 및 상담\n",
      "2024년 재학생 스마트폰 과의존 예방교육\n",
      "[재맞고] 2024 온라인 청년미래직진\n",
      "[재맞고] 2024 DS 취업점프업\n",
      "[재맞고] 2024 DS 진로빌드업\n",
      "2024 창의적 굿즈 제작\n",
      "2024 창의적 굿즈 제작\n",
      "[2024-2학기] 학습컨설팅 _1:1컨설팅\n",
      "[2024-2학기] 학습컨설팅 _학습전략/대학전공선택/대학적응력 검사 및 해석특강\n",
      "[2024-2학기] 학습컨설팅 _학습전략/대학전공선택/대학적응력 검사 및 해석특강\n",
      "2024-2학기 덕성튜터링\n",
      "2024 창의적 굿즈 제작\n",
      "[재맞고] 빌드업 - 진로부트캠프\n",
      "2024 창의적 굿즈 제작\n",
      "2024-2학기 교수자-학습자 콜라보 프로젝트\n",
      "2024 사회진출 선배와의 집단 멘토링\n",
      "제59회 독서카페 '책과 함께하는 상상여행'\n",
      "제59회 독서카페 '책과 함께하는 상상여행'\n",
      "2024 하반기 육군 학사장교 캠퍼스 리쿠르팅\n",
      "2024-2 덕성 교양교육 서포터즈 4기\n",
      "2024 덕성 5K Plus O2O 캠퍼스타운 [도봉청년 창업교육 D-School] - 2. '청년 전문 창업 교육'\n",
      "[2024-2학기] 학습컨설팅 _학습전략/대학전공선택/대학적응력 검사 및 해석특강\n",
      "구글 애널리틱스 데이터분석 자격과정\n",
      "2024 LALA아카데미_전산회계 2급\n",
      "2024 미국 종합물류기업 FNS社 해외취업  캠퍼스 채용설명회\n",
      "2024학년도 2학기 Global Lounge\n",
      "(모집계속)2024 커리어 길라잡이 특강\n",
      "2024-2 진로설계 워크샵\n",
      "제4회 도서관 사진공모 포토에세이 「책과 떠나는 캠퍼스 투어」\n",
      "DS English Writing Program\n",
      "2024 제2회 도서관 사진 특강 「작품이 되는 사진」\n",
      "사회복지실천 전문가 양성을 위한 임파워먼트 (역량증진) & 멘토링 프로그램\n",
      "2024학년도 2학기 덕성 챌린지 프로젝트\n",
      "DS English Listening Program\n",
      "2024년도 하반기 직무적성검사(대기업) 특강\n",
      "2024년 「취업컨설팅(잡매칭)프로그램」\n",
      "2024-2  글로벌튜터링\n",
      "2024-2 취업 길라잡이 특강 - 면접별 대응전략 -\n"
     ]
    }
   ],
   "source": [
    "# 타이틀 추출\n",
    "titles = extract_titles(default_divs)\n",
    "# 결과 출력\n",
    "print(f\"총 {len(titles)}개의 타이틀이 발견되었습니다.\")\n",
    "for title in titles:\n",
    "    print(title)"
   ]
  },
  {
   "cell_type": "markdown",
   "metadata": {},
   "source": [
    "3. 이미지 불러오기"
   ]
  },
  {
   "cell_type": "code",
   "execution_count": 29,
   "metadata": {},
   "outputs": [],
   "source": [
    "def extract_cover_images(div_elements):\n",
    "    \"\"\"주어진 div 요소 리스트에서 cover 이미지 URL을 추출하는 함수\"\"\"\n",
    "    all_images = []\n",
    "    base_url = \"https://delight.duksung.ac.kr/\"  # 기본 URL\n",
    "\n",
    "    for div in div_elements:\n",
    "        cover_element = div.select_one(\"div.cover\")  # div.cover 찾기\n",
    "        if cover_element:\n",
    "            style = cover_element.get('style')  # style 속성 가져오기\n",
    "            if style:\n",
    "                # background-image URL 추출\n",
    "                match = re.search(r'url\\((.*?)\\)', style)\n",
    "                if match:\n",
    "                    image_url = match.group(1).strip(\" '\\\"\")  # URL에서 따옴표 제거\n",
    "                    # URL이 상대경로인 경우 base_url 추가\n",
    "                    if not image_url.startswith('http'):\n",
    "                        image_url = base_url + image_url.lstrip('/')  # 맨 앞 '/' 제거\n",
    "                    all_images.append(image_url)\n",
    "            # 이미지가 없으면 해당 div를 비우고 넘어감\n",
    "        else:\n",
    "            continue  # cover 요소가 없으면 넘어감\n",
    "\n",
    "    return all_images\n"
   ]
  },
  {
   "cell_type": "code",
   "execution_count": 30,
   "metadata": {},
   "outputs": [
    {
     "name": "stdout",
     "output_type": "stream",
     "text": [
      "총 71개의 이미지 URL이 발견되었습니다.\n",
      "https://delight.duksung.ac.kr/attachment/view/31097/cover.jpg?ts=1725262993\n",
      "https://delight.duksung.ac.kr/attachment/view/31185/cover.jpg?ts=1727415048\n",
      "https://delight.duksung.ac.kr/attachment/view/32523/cover.jpg?ts=1727855771\n",
      "https://delight.duksung.ac.kr/attachment/view/31092/cover.jpg?ts=1725254834\n",
      "https://delight.duksung.ac.kr/attachment/view/32237/cover.jpg?ts=1727851451\n",
      "https://delight.duksung.ac.kr/attachment/view/32540/cover.jpg?ts=1727427392\n",
      "https://delight.duksung.ac.kr/attachment/view/32238/cover.jpg?ts=1727312317\n",
      "https://delight.duksung.ac.kr/attachment/view/31001/cover.jpg?ts=1726030970\n",
      "https://delight.duksung.ac.kr/attachment/view/30926/cover.jpg?ts=1728030380\n",
      "https://delight.duksung.ac.kr/attachment/view/31691/cover.jpg?ts=1727158177\n",
      "https://delight.duksung.ac.kr/attachment/view/31689/cover.jpg?ts=1727051885\n",
      "https://delight.duksung.ac.kr/attachment/view/30956/cover.jpg?ts=1728030489\n",
      "https://delight.duksung.ac.kr/attachment/view/31786/cover.jpg?ts=1727080300\n",
      "https://delight.duksung.ac.kr/attachment/view/31372/cover.jpg?ts=1727070325\n",
      "https://delight.duksung.ac.kr/attachment/view/32237/cover.jpg?ts=1727851451\n",
      "https://delight.duksung.ac.kr/attachment/view/32626/cover.jpg?ts=1728017988\n",
      "https://delight.duksung.ac.kr/attachment/view/31930/cover.jpg?ts=1727224863\n",
      "https://delight.duksung.ac.kr/attachment/view/32538/cover.jpg?ts=1727850564\n",
      "https://delight.duksung.ac.kr/attachment/view/32237/cover.jpg?ts=1727851451\n",
      "https://delight.duksung.ac.kr/attachment/view/32540/cover.jpg?ts=1727427392\n",
      "https://delight.duksung.ac.kr/attachment/view/32358/cover.jpg?ts=1727327681\n",
      "https://delight.duksung.ac.kr/attachment/view/32540/cover.jpg?ts=1727427392\n",
      "https://delight.duksung.ac.kr/attachment/view/32237/cover.jpg?ts=1727851451\n",
      "https://delight.duksung.ac.kr/attachment/view/32237/cover.jpg?ts=1727851451\n",
      "https://delight.duksung.ac.kr/attachment/view/32540/cover.jpg?ts=1727427392\n",
      "https://delight.duksung.ac.kr/attachment/view/32540/cover.jpg?ts=1727427392\n",
      "https://delight.duksung.ac.kr/attachment/view/28195/cover.jpg?ts=1711632746\n",
      "https://delight.duksung.ac.kr/attachment/view/31060/cover.jpg?ts=1724205849\n",
      "https://delight.duksung.ac.kr/attachment/view/32540/cover.jpg?ts=1727427392\n",
      "https://delight.duksung.ac.kr/attachment/view/28634/cover.jpg?ts=1714551787\n",
      "https://delight.duksung.ac.kr/attachment/view/32540/cover.jpg?ts=1727427392\n",
      "https://delight.duksung.ac.kr/attachment/view/31191/cover.jpg?ts=1725256461\n",
      "https://delight.duksung.ac.kr/attachment/view/29138/cover.jpg?ts=1716250714\n",
      "https://delight.duksung.ac.kr/attachment/view/31110/cover.jpg?ts=1724817104\n",
      "https://delight.duksung.ac.kr/attachment/view/28875/cover.jpg?ts=1714551812\n",
      "https://delight.duksung.ac.kr/attachment/view/29927/cover.jpg?ts=1720067472\n",
      "https://delight.duksung.ac.kr/attachment/view/29751/cover.jpg?ts=1726121727\n",
      "https://delight.duksung.ac.kr/attachment/view/29750/cover.jpg?ts=1726121762\n",
      "https://delight.duksung.ac.kr/attachment/view/31592/cover.jpg?ts=1726019590\n",
      "https://delight.duksung.ac.kr/attachment/view/31592/cover.jpg?ts=1726019590\n",
      "https://delight.duksung.ac.kr/attachment/view/31072/cover.jpg?ts=1725585984\n",
      "https://delight.duksung.ac.kr/attachment/view/31071/cover.jpg?ts=1725522307\n",
      "https://delight.duksung.ac.kr/attachment/view/31071/cover.jpg?ts=1725522307\n",
      "https://delight.duksung.ac.kr/attachment/view/31183/cover.jpg?ts=1727065977\n",
      "https://delight.duksung.ac.kr/attachment/view/31592/cover.jpg?ts=1726019590\n",
      "https://delight.duksung.ac.kr/attachment/view/31064/cover.jpg?ts=1726121635\n",
      "https://delight.duksung.ac.kr/attachment/view/31592/cover.jpg?ts=1726019590\n",
      "https://delight.duksung.ac.kr/attachment/view/32347/cover.jpg?ts=1727686885\n",
      "https://delight.duksung.ac.kr/attachment/view/30900/cover.jpg?ts=1727064092\n",
      "https://delight.duksung.ac.kr/attachment/view/31100/cover.jpg?ts=1724910607\n",
      "https://delight.duksung.ac.kr/attachment/view/31100/cover.jpg?ts=1724910607\n",
      "https://delight.duksung.ac.kr/attachment/view/31767/cover.jpg?ts=1726107013\n",
      "https://delight.duksung.ac.kr/attachment/view/31284/cover.jpg?ts=1725504850\n",
      "https://delight.duksung.ac.kr/attachment/view/31198/cover.jpg?ts=1725520277\n",
      "https://delight.duksung.ac.kr/attachment/view/31071/cover.jpg?ts=1725522307\n",
      "https://delight.duksung.ac.kr/attachment/view/31026/cover.jpg?ts=1727841580\n",
      "https://delight.duksung.ac.kr/attachment/view/31089/cover.jpg?ts=1726911156\n",
      "https://delight.duksung.ac.kr/attachment/view/31962/cover.jpg?ts=1726808004\n",
      "https://delight.duksung.ac.kr/attachment/view/30953/cover.jpg?ts=1727397753\n",
      "https://delight.duksung.ac.kr/attachment/view/31213/cover.jpg?ts=1728007526\n",
      "https://delight.duksung.ac.kr/attachment/view/31080/cover.jpg?ts=1726825988\n",
      "https://delight.duksung.ac.kr/attachment/view/31298/cover.jpg?ts=1727853829\n",
      "https://delight.duksung.ac.kr/attachment/view/31120/cover.jpg?ts=1724906663\n",
      "https://delight.duksung.ac.kr/attachment/view/31068/cover.jpg?ts=1724389372\n",
      "https://delight.duksung.ac.kr/attachment/view/31708/cover.jpg?ts=1726729041\n",
      "https://delight.duksung.ac.kr/attachment/view/31706/cover.jpg?ts=1726046366\n",
      "https://delight.duksung.ac.kr/attachment/view/31121/cover.jpg?ts=1725433376\n",
      "https://delight.duksung.ac.kr/attachment/view/31019/cover.jpg?ts=1727063389\n",
      "https://delight.duksung.ac.kr/attachment/view/30930/cover.jpg?ts=1726708903\n",
      "https://delight.duksung.ac.kr/attachment/view/31654/cover.jpg?ts=1727679310\n",
      "https://delight.duksung.ac.kr/attachment/view/31058/cover.jpg?ts=1726034702\n"
     ]
    }
   ],
   "source": [
    "# cover 이미지 URL 추출\n",
    "cover_images = extract_cover_images(default_divs)\n",
    "# 결과 출력\n",
    "print(f\"총 {len(cover_images)}개의 이미지 URL이 발견되었습니다.\")\n",
    "for image in cover_images:\n",
    "    print(image)"
   ]
  },
  {
   "cell_type": "markdown",
   "metadata": {},
   "source": [
    "4. 기한 끌고오기"
   ]
  },
  {
   "cell_type": "code",
   "execution_count": 31,
   "metadata": {},
   "outputs": [],
   "source": [
    "def extract_first_dates(div_elements):\n",
    "    \"\"\"주어진 div 요소 리스트에서 각 class='content' 안의 가장 위에 있는 time 정보를 추출하는 함수\"\"\"\n",
    "    dates = []\n",
    "    \n",
    "    for div in div_elements:\n",
    "        content_div = div.select_one(\"div.content\")  # class='content'인 div 찾기\n",
    "        if content_div:\n",
    "            first_time_element = content_div.select_one(\"time\")  # 첫 번째 time 요소 찾기\n",
    "            if first_time_element:\n",
    "                dates.append(first_time_element.text.strip())  # datetime 텍스트 추가\n",
    "\n",
    "    return dates"
   ]
  },
  {
   "cell_type": "code",
   "execution_count": 32,
   "metadata": {},
   "outputs": [
    {
     "name": "stdout",
     "output_type": "stream",
     "text": [
      "총 72개의 날짜가 발견되었습니다.\n",
      "2024.09.02(Mon)\n",
      "2024.10.08(Tue) 18:30\n",
      "2024.09.26(Thu)\n",
      "2024.09.01(Sun)\n",
      "2024.09.09(Mon)\n",
      "2024.10.17(Thu) 16:30\n",
      "2024.10.16(Wed) 14:00\n",
      "2024.10.23(Wed) 17:30\n",
      "2024.09.09(Mon)\n",
      "2024.10.22(Tue)\n",
      "2024.09.23(Mon)\n",
      "2024.09.23(Mon)\n",
      "2024.10.22(Tue)\n",
      "2024.10.25(Fri) 00:00\n",
      "2024.09.23(Mon)\n",
      "2024.10.24(Thu) 16:30\n",
      "2024.10.23(Wed) 18:00\n",
      "2024.10.28(Mon)\n",
      "2024.10.30(Wed) 18:00\n",
      "2024.10.31(Thu) 16:30\n",
      "2024.10.31(Thu) 14:00\n",
      "2024.09.30(Mon)\n",
      "2024.11.05(Tue) 14:00\n",
      "2024.11.07(Thu) 16:30\n",
      "2024.11.14(Thu) 16:30\n",
      "2024.11.21(Thu) 14:00\n",
      "2024.11.28(Thu) 14:00\n",
      "2024.03.27(Wed)\n",
      "2024.09.02(Mon)\n",
      "2024.12.05(Thu) 14:00\n",
      "2024.03.21(Thu)\n",
      "2024.12.12(Thu) 14:00\n",
      "2024.09.02(Mon)\n",
      "2024.05.02(Thu)\n",
      "2024.09.02(Mon)\n",
      "2024.03.27(Wed)\n",
      "2024.06.03(Mon)\n",
      "2024.05.27(Mon)\n",
      "2024.05.27(Mon)\n",
      "2024.10.28(Mon) 16:30\n",
      "2024.10.29(Tue) 16:30\n",
      "2024.09.30(Mon)\n",
      "2024.09.27(Fri) 19:00\n",
      "2024.09.26(Thu) 19:00\n",
      "2024.09.26(Thu)\n",
      "2024.09.26(Thu) 16:30\n",
      "2024.09.26(Thu)\n",
      "2024.09.25(Wed) 16:30\n",
      "2024.09.25(Wed)\n",
      "2024.09.24(Tue) 18:30\n",
      "2024.09.24(Tue) 18:00\n",
      "2024.09.24(Tue) 18:00\n",
      "2024.09.24(Tue) 15:00\n",
      "2024.09.24(Tue)\n",
      "2024.09.24(Tue)\n",
      "2024.09.23(Mon) 19:00\n",
      "2024.09.23(Mon)\n",
      "2024.09.23(Mon)\n",
      "2024.09.23(Mon) 17:00\n",
      "2024.09.23(Mon)\n",
      "2024.09.23(Mon)\n",
      "2024.09.21(Sat) 10:00\n",
      "2024.09.16(Mon)\n",
      "2024.09.11(Wed)\n",
      "2024.09.11(Wed) 17:00\n",
      "2024.09.11(Wed)\n",
      "2024.09.10(Tue)\n",
      "2024.09.10(Tue)\n",
      "2024.09.10(Tue)\n",
      "2024.09.10(Tue)\n",
      "2024.09.09(Mon)\n",
      "2024.09.06(Fri) 18:15\n"
     ]
    }
   ],
   "source": [
    "# 날짜 추출\n",
    "dates = extract_first_dates(default_divs)\n",
    "\n",
    "# 결과 출력\n",
    "print(f\"총 {len(dates)}개의 날짜가 발견되었습니다.\")\n",
    "for date in dates:\n",
    "    print(date)"
   ]
  },
  {
   "cell_type": "markdown",
   "metadata": {},
   "source": [
    "5. 주최자"
   ]
  },
  {
   "cell_type": "code",
   "execution_count": 33,
   "metadata": {},
   "outputs": [],
   "source": [
    "def extract_institution_spans(div_elements):\n",
    "    \"\"\"주어진 div 요소 리스트에서 class='content' 안의 span.institution 정보를 추출하는 함수\"\"\"\n",
    "    institutions = []\n",
    "    \n",
    "    for div in div_elements:\n",
    "        content_div = div.select_one(\"div.content\")  # class='content'인 div 찾기\n",
    "        if content_div:\n",
    "            span_element = content_div.select_one(\"span.institution\")  # span.institution 요소 찾기\n",
    "            if span_element:\n",
    "                institutions.append(span_element.text.strip())  # span의 텍스트 추가\n",
    "\n",
    "    return institutions\n",
    "\n"
   ]
  },
  {
   "cell_type": "code",
   "execution_count": 34,
   "metadata": {},
   "outputs": [
    {
     "name": "stdout",
     "output_type": "stream",
     "text": [
      "총 72개의 기관이 발견되었습니다.\n",
      "창업센터\n",
      "대학일자리본부\n",
      "교수학습개발센터\n",
      "글로벌 융합대학\n",
      "창업센터\n",
      "대학일자리본부\n",
      "산학연구과\n",
      "부속/부설기관\n",
      "차미리사교양대학\n",
      "대학일자리본부\n",
      "차미리사교양대학\n",
      "차미리사교양대학\n",
      "대학일자리본부\n",
      "대학일자리본부\n",
      "창업지원단\n",
      "대학일자리본부\n",
      "대학일자리본부\n",
      "대학일자리본부\n",
      "차미리사교양대학\n",
      "대학일자리본부\n",
      "산학연구과\n",
      "글로벌커뮤니케이션센터\n",
      "산학연구과\n",
      "대학일자리본부\n",
      "대학일자리본부\n",
      "산학연구과\n",
      "산학연구과\n",
      "과학기술대학\n",
      "교육혁신성과관리센터\n",
      "산학연구과\n",
      "학생상담센터\n",
      "산학연구과\n",
      "대학일자리본부\n",
      "부속/부설기관\n",
      "학생상담센터\n",
      "학생상담센터\n",
      "대학일자리본부\n",
      "대학일자리본부\n",
      "대학일자리본부\n",
      "도서관\n",
      "도서관\n",
      "교수학습개발센터\n",
      "교수학습개발센터\n",
      "교수학습개발센터\n",
      "교수학습개발센터\n",
      "도서관\n",
      "대학일자리본부\n",
      "도서관\n",
      "교수학습개발센터\n",
      "대학일자리본부\n",
      "도서관\n",
      "도서관\n",
      "대학일자리본부\n",
      "차미리사교양대학\n",
      "캠퍼스타운조성단\n",
      "교수학습개발센터\n",
      "대학일자리본부\n",
      "대학일자리본부\n",
      "대학일자리본부\n",
      "국제교류과\n",
      "대학일자리본부\n",
      "대학일자리본부\n",
      "도서관\n",
      "글로벌커뮤니케이션센터\n",
      "도서관\n",
      "사회복지학전공\n",
      "교수학습개발센터\n",
      "글로벌커뮤니케이션센터\n",
      "대학일자리본부\n",
      "대학일자리본부\n",
      "교수학습개발센터\n",
      "대학일자리본부\n"
     ]
    }
   ],
   "source": [
    "# 각 content div에서 span.institution 추출\n",
    "institution_spans = extract_institution_spans(default_divs)\n",
    "\n",
    "# 결과 출력\n",
    "print(f\"총 {len(institution_spans)}개의 기관이 발견되었습니다.\")\n",
    "for institution in institution_spans:\n",
    "    print(institution)"
   ]
  },
  {
   "cell_type": "markdown",
   "metadata": {},
   "source": [
    "json으로 내보내기"
   ]
  },
  {
   "cell_type": "code",
   "execution_count": 38,
   "metadata": {},
   "outputs": [],
   "source": [
    "# 프로그램 데이터를 리스트로 묶기\n",
    "programs = [\n",
    "    {\n",
    "        'title': title,\n",
    "        'coverImage': cover_image,\n",
    "        'date': date,\n",
    "        'institution': institution,\n",
    "        'parentCategory_id': 1,  # 기본값 설정\n",
    "        'subCategory_id': 1       # 기본값 설정\n",
    "    }\n",
    "    for title, cover_image, date, institution in zip(titles, cover_images, dates, institution_spans)\n",
    "]\n",
    "\n"
   ]
  },
  {
   "cell_type": "code",
   "execution_count": 39,
   "metadata": {},
   "outputs": [],
   "source": [
    "import json"
   ]
  },
  {
   "cell_type": "code",
   "execution_count": 40,
   "metadata": {},
   "outputs": [],
   "source": [
    "# JSON 파일로 저장\n",
    "with open('programs.json', 'w', encoding='utf-8') as f:\n",
    "    json.dump(programs, f, ensure_ascii=False, indent=4)"
   ]
  },
  {
   "cell_type": "code",
   "execution_count": null,
   "metadata": {},
   "outputs": [],
   "source": []
  }
 ],
 "metadata": {
  "kernelspec": {
   "display_name": "Python 3",
   "language": "python",
   "name": "python3"
  },
  "language_info": {
   "codemirror_mode": {
    "name": "ipython",
    "version": 3
   },
   "file_extension": ".py",
   "mimetype": "text/x-python",
   "name": "python",
   "nbconvert_exporter": "python",
   "pygments_lexer": "ipython3",
   "version": "3.12.4"
  }
 },
 "nbformat": 4,
 "nbformat_minor": 2
}
