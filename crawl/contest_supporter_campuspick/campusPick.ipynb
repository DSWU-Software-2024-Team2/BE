{
 "cells": [
  {
   "cell_type": "markdown",
   "metadata": {},
   "source": [
    "### 크롤링"
   ]
  },
  {
   "cell_type": "code",
   "execution_count": 1,
   "metadata": {},
   "outputs": [],
   "source": [
    "# 크롤러 라이브러리\n",
    "from selenium import webdriver\n",
    "from selenium.webdriver.common.by import By\n",
    "from selenium.webdriver.common.keys import Keys\n",
    "# 엑셀 라이브러리\n",
    "import openpyxl\n",
    "# 시간 라이브러리\n",
    "import time\n",
    "import pandas as pd"
   ]
  },
  {
   "cell_type": "code",
   "execution_count": 2,
   "metadata": {},
   "outputs": [],
   "source": [
    "# 크롤링한 데이터를 모아두는 리스트\n",
    "earned_content = []\n",
    "\n",
    "# 캠퍼스픽 공모전 페이지와 대외활동 페이지 URL\n",
    "contest_url = \"https://www.campuspick.com/contest\"\n",
    "activity_url = \"https://www.campuspick.com/activity\"\n",
    "url_list = [contest_url, activity_url]"
   ]
  },
  {
   "cell_type": "code",
   "execution_count": null,
   "metadata": {},
   "outputs": [],
   "source": [
    "# 크롬 드라이버 초기화\n",
    "driver = webdriver.Chrome()\n",
    "\n",
    "# 모든 URL의 결과를 저장할 리스트\n",
    "all_results = []\n",
    "\n",
    "for url in url_list:\n",
    "    driver.get(url)\n",
    "    time.sleep(3)  # 로딩 대기\n",
    "\n",
    "    # 무한 스크롤에서 첫 번째 리스트 아이템 가져오기\n",
    "    lis = driver.find_elements(By.XPATH, '//*[@class=\"list\"]/*[@class=\"item\"]')\n",
    "    li = lis[0] if lis else None\n",
    "    count = 0  # 카운트 초기화\n",
    "\n",
    "    while li and count < 70:  # 최대 70개 가져오기\n",
    "        # 마감기한 확인\n",
    "        if li.find_elements(By.XPATH, './/*[@class=\"dday highlight\"]'):\n",
    "            due_date = li.find_element(By.XPATH, './/*[@class=\"dday highlight\"]').text\n",
    "            if \"마감\" in due_date:\n",
    "                print(\"마감된 게시물입니다.\")\n",
    "        else:\n",
    "            due_date = \"마감기한 없음\"  # 마감기한이 없는 경우 처리\n",
    "\n",
    "        # 키워드, 제목, 주최, 조회수, 썸네일 이미지 URL 가져오기\n",
    "        keywords = li.find_elements(By.XPATH, './/*[@class=\"badges\"]/span')\n",
    "        keyword_list = [keyword.text for keyword in keywords]\n",
    "        keyword_str = \",\".join(keyword_list)\n",
    "\n",
    "        title = li.find_element(By.XPATH, './/h2').text\n",
    "        company = li.find_element(By.XPATH, './/*[@class=\"company\"]').text\n",
    "        view_count = li.find_element(By.XPATH, './/*[@class=\"viewcount\"]').text\n",
    "        thumbnail_url = li.find_element(By.XPATH, './/figure').get_attribute(\"data-image\")\n",
    "\n",
    "        results = [keyword_str, title, company, due_date, view_count, thumbnail_url]\n",
    "        all_results.append(results)  # 모든 결과 리스트에 추가\n",
    "\n",
    "        count += 1  # 카운트 증가\n",
    "        print(f\"{count}번째 결과: {results}\")\n",
    "\n",
    "        # 다음 리스트 아이템으로 스크롤\n",
    "        driver.execute_script(\"arguments[0].scrollIntoView({behavior: 'smooth', block: 'center'});\", li)\n",
    "\n",
    "        # 스크롤 후 대기 시간\n",
    "        time.sleep(5)  # 5초 대기 (필요에 따라 조정 가능)\n",
    "\n",
    "        # 다음 아이템 확인\n",
    "        if li.find_elements(By.XPATH, './following-sibling::*[@class=\"item\"]'):\n",
    "            next_li = li.find_element(By.XPATH, './following-sibling::*[@class=\"item\"]')\n",
    "            li = next_li\n",
    "        else:\n",
    "            print(\"다음 리스트가 존재하지 않습니다. 종료합니다.\")\n",
    "            break\n",
    "\n",
    "    # URL별로 결과 저장하기\n",
    "    df = pd.DataFrame(all_results, columns=[\"키워드\", \"제목\", \"주최\", \"마감기한\", \"조회수\", \"썸네일\"])\n",
    "    df.to_csv(f'crawled_data_{url.split(\"/\")[-1]}.csv', index=False, encoding='utf-8-sig')\n",
    "    print(f'{url.split(\"/\")[-1]}에 대한 결과를 저장했습니다.')\n",
    "\n",
    "    # URL별 결과 초기화\n",
    "    all_results = []\n",
    "\n",
    "# 크롬 드라이버 종료\n",
    "driver.quit()\n",
    "\n"
   ]
  },
  {
   "cell_type": "markdown",
   "metadata": {},
   "source": [
    "### 데이터 확인"
   ]
  },
  {
   "cell_type": "code",
   "execution_count": 8,
   "metadata": {},
   "outputs": [],
   "source": [
    "import pandas as pd"
   ]
  },
  {
   "cell_type": "code",
   "execution_count": 9,
   "metadata": {},
   "outputs": [],
   "source": [
    "df_activity = pd.read_csv('C:\\\\Users\\\\User\\\\Desktop\\\\backend\\\\crawl\\\\contest_supporter_campuspick\\\\crawled_data_activity.csv')\n",
    "df_contest = pd.read_csv('C:\\\\Users\\\\User\\\\Desktop\\\\backend\\\\crawl\\\\contest_supporter_campuspick\\\\crawled_data_contest.csv')"
   ]
  },
  {
   "cell_type": "code",
   "execution_count": 11,
   "metadata": {},
   "outputs": [],
   "source": [
    "# 각 DataFrame에 parentCategory_id와 subCategory_id 열 추가\n",
    "#df_activity['parentCategory_id'] = 1  \n",
    "#df_activity['subCategory_id'] = 2    \n",
    "\n",
    "#df_contest['parentCategory_id'] = 1   \n",
    "#df_contest['subCategory_id'] = 4   "
   ]
  },
  {
   "cell_type": "code",
   "execution_count": null,
   "metadata": {},
   "outputs": [],
   "source": [
    "# 수정된 DataFrame을 동일한 파일명으로 저장 (덮어쓰기)\n",
    "#df_activity.to_csv('C:\\\\Users\\\\User\\\\Desktop\\\\backend\\\\crawl\\\\contest&supporter_campuspick\\\\crawled_data_activity.csv', index=False, encoding='utf-8-sig')\n",
    "#df_contest.to_csv('C:\\\\Users\\\\User\\\\Desktop\\\\backend\\\\crawl\\\\contest&supporter_campuspick\\\\crawled_data_contest.csv', index=False, encoding='utf-8-sig')"
   ]
  },
  {
   "cell_type": "markdown",
   "metadata": {},
   "source": [
    "### Activity data type convert"
   ]
  },
  {
   "cell_type": "code",
   "execution_count": 15,
   "metadata": {},
   "outputs": [],
   "source": [
    "# 조회수 열을 정수형으로 변환\n",
    "df_activity['조회수'] = df_activity['조회수'].fillna(0).astype(int)"
   ]
  },
  {
   "cell_type": "code",
   "execution_count": 21,
   "metadata": {},
   "outputs": [
    {
     "name": "stdout",
     "output_type": "stream",
     "text": [
      "<class 'pandas.core.frame.DataFrame'>\n",
      "RangeIndex: 70 entries, 0 to 69\n",
      "Data columns (total 8 columns):\n",
      " #   Column             Non-Null Count  Dtype \n",
      "---  ------             --------------  ----- \n",
      " 0   키워드                70 non-null     object\n",
      " 1   제목                 70 non-null     object\n",
      " 2   주최                 70 non-null     object\n",
      " 3   마감기한               70 non-null     object\n",
      " 4   조회수                70 non-null     int32 \n",
      " 5   썸네일                70 non-null     object\n",
      " 6   parentCategory_id  70 non-null     int64 \n",
      " 7   subCategory_id     70 non-null     int64 \n",
      "dtypes: int32(1), int64(2), object(5)\n",
      "memory usage: 4.2+ KB\n"
     ]
    }
   ],
   "source": [
    "df_activity.info()"
   ]
  },
  {
   "cell_type": "code",
   "execution_count": 20,
   "metadata": {},
   "outputs": [],
   "source": [
    "df_activity.to_csv('C:\\\\Users\\\\User\\\\Desktop\\\\backend\\\\crawl\\\\contest_supporter_campuspick\\\\crawled_data_activity.csv', index=False, encoding='utf-8-sig')"
   ]
  },
  {
   "cell_type": "code",
   "execution_count": null,
   "metadata": {},
   "outputs": [],
   "source": []
  }
 ],
 "metadata": {
  "kernelspec": {
   "display_name": "Python 3",
   "language": "python",
   "name": "python3"
  },
  "language_info": {
   "codemirror_mode": {
    "name": "ipython",
    "version": 3
   },
   "file_extension": ".py",
   "mimetype": "text/x-python",
   "name": "python",
   "nbconvert_exporter": "python",
   "pygments_lexer": "ipython3",
   "version": "3.12.4"
  }
 },
 "nbformat": 4,
 "nbformat_minor": 2
}
